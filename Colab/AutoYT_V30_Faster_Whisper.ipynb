{
  "nbformat": 4,
  "nbformat_minor": 0,
  "metadata": {
    "colab": {
      "provenance": [],
      "gpuType": "T4"
    },
    "kernelspec": {
      "name": "python3",
      "display_name": "Python 3"
    },
    "language_info": {
      "name": "python"
    },
    "accelerator": "GPU"
  },
  "cells": [
    {
      "cell_type": "markdown",
      "source": [
        "安裝各項依賴"
      ],
      "metadata": {
        "id": "Gmkpk-IdYZk4"
      }
    },
    {
      "cell_type": "code",
      "execution_count": null,
      "metadata": {
        "id": "zZtnpYwlYQYT"
      },
      "outputs": [],
      "source": [
        "!pip install openai-whisper\n",
        "!pip install faster-whisper\n",
        "!apt install ffmpeg\n",
        "!pip install deepl\n",
        "!pip install yt-dlp\n",
        "!pip install openai==0.28\n",
        "!pip install requests\n",
        "!pip install google-generativeai"
      ]
    },
    {
      "cell_type": "markdown",
      "source": [
        "主要程式\n",
        "\n",
        "\n",
        "\n"
      ],
      "metadata": {
        "id": "Flexe0MTur1a"
      }
    },
    {
      "cell_type": "code",
      "source": [
        "import requests\n",
        "import json\n",
        "import os\n",
        "import subprocess\n",
        "import time\n",
        "import whisper\n",
        "from google.colab import userdata\n",
        "from faster_whisper import WhisperModel\n",
        "\n",
        "\n",
        "# 初始化 Faster Whisper 模型\n",
        "model = WhisperModel(\"large-v2\", device=\"cuda\")  # 使用适合您硬件的模型大小和设备\n",
        "\n",
        "\n",
        "def call_gemini_api(input_text):\n",
        "    url = f\"https://palm-proxy.arcelibs.com/v1beta/models/gemini-pro:generateContent?key=(你的Gemini API)"\n",
        "    headers = {'Content-Type': 'application/json'}\n",
        "    formatted_input = f\"請你必須將下列語句翻譯成流暢的繁體中文:\\n{input_text}，\"\n",
        "    data = json.dumps({\"contents\":[{\"parts\":[{\"text\": formatted_input}]}]})\n",
        "\n",
        "    response = requests.post(url, headers=headers, data=data)\n",
        "    if response.status_code == 200:\n",
        "        response_data = response.json()\n",
        "        #print(\"Response Data:\", response_data)  # 调试：打印响应数据\n",
        "        try:\n",
        "            return response_data['candidates'][0]['content']['parts'][0]['text']\n",
        "        except KeyError:\n",
        "            print(\"KeyError: 'candidates' not found in response.\")\n",
        "            return None\n",
        "    else:\n",
        "        print(f\"错误: {response.status_code}\")\n",
        "        return None\n",
        "\n",
        "\n",
        "# 使用 yt-dlp 获取 YouTube 媒体流地址\n",
        "def get_stream_url(youtube_url):\n",
        "    command = [\"yt-dlp\", \"-g\", youtube_url]\n",
        "    process = subprocess.run(command, stdout=subprocess.PIPE, stderr=subprocess.PIPE, text=True)\n",
        "    if process.returncode != 0:\n",
        "        print(f\"错误: 无法获取流地址。详情：{process.stderr}\")\n",
        "        return None\n",
        "    return process.stdout.strip()\n",
        "\n",
        "# 录制音频的函数\n",
        "def record_audio(stream_url, duration, output_filename):\n",
        "    try:\n",
        "        command = [\n",
        "            \"ffmpeg\", \"-i\", stream_url, \"-t\", str(duration),\n",
        "            \"-ac\", \"1\", \"-ar\", \"16000\", \"-y\", output_filename\n",
        "        ]\n",
        "        subprocess.run(command, stdout=subprocess.PIPE, stderr=subprocess.PIPE, check=True)\n",
        "    except subprocess.CalledProcessError as e:\n",
        "        print(f\"错误: 无法录制音频。详情：{e.stderr.decode()}\")\n",
        "        return False\n",
        "    return True\n",
        "\n",
        "# 转写音频的函数\n",
        "def transcribe_audio(file_path, language=\"japanese\"):\n",
        "    try:\n",
        "        # 使用 Faster Whisper 进行转录\n",
        "        segments, info = model.transcribe(file_path)\n",
        "        # 合并段落以形成完整文本\n",
        "        text = \" \".join([seg.text for seg in segments])\n",
        "        return text\n",
        "    except Exception as e:\n",
        "        print(f\"错误: 无法转写音频。详情：{e}\")\n",
        "        return None\n",
        "\n",
        "# 主流程\n",
        "def main(youtube_url, segment_duration, total_duration):\n",
        "    stream_url = get_stream_url(youtube_url)\n",
        "    if not stream_url:\n",
        "        print(\"无法获取 YouTube 直播流地址。\")\n",
        "        return\n",
        "\n",
        "    for segment in range(0, total_duration, segment_duration):\n",
        "        filename = f\"output{segment}.wav\"\n",
        "        if record_audio(stream_url, segment_duration, filename):\n",
        "            text = transcribe_audio(filename)\n",
        "            if text:\n",
        "                translated_text = call_gemini_api(text)\n",
        "                if translated_text:\n",
        "                    print(f\"Segment {segment}: {translated_text}\")\n",
        "                else:\n",
        "                    print(f\"无法翻译段落 {segment}。\")\n",
        "            else:\n",
        "                print(f\"无法转录段落 {segment}。\")\n",
        "            os.remove(filename)  # 清理：删除音频文件\n",
        "        else:\n",
        "            print(f\"录制段落 {segment} 失败。\")\n",
        "        time.sleep(segment_duration)\n",
        "\n",
        "# 配置参数\n",
        "YOUTUBE_URL = \"https://www.youtube.com/watch?v=pt1Xwr95hS4\"  # YouTube 直播页面 URL\n",
        "SEGMENT_DURATION = 5  # 每个音频片段的长度，单位：秒\n",
        "TOTAL_DURATION = 6000   # 总录制时间，单位：秒\n",
        "\n",
        "if __name__ == \"__main__\":\n",
        "    main(YOUTUBE_URL, SEGMENT_DURATION, TOTAL_DURATION)\n"
      ],
      "metadata": {
        "id": "eNHUziu5hYSQ"
      },
      "execution_count": null,
      "outputs": []
    }
  ]
}