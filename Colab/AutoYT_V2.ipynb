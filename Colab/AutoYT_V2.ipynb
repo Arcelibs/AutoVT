{
  "nbformat": 4,
  "nbformat_minor": 0,
  "metadata": {
    "colab": {
      "provenance": [],
      "gpuType": "T4"
    },
    "kernelspec": {
      "name": "python3",
      "display_name": "Python 3"
    },
    "language_info": {
      "name": "python"
    },
    "accelerator": "GPU"
  },
  "cells": [
    {
      "cell_type": "markdown",
      "source": [
        "安裝各項依賴"
      ],
      "metadata": {
        "id": "Gmkpk-IdYZk4"
      }
    },
    {
      "cell_type": "code",
      "execution_count": null,
      "metadata": {
        "id": "zZtnpYwlYQYT"
      },
      "outputs": [],
      "source": [
        "!pip install openai-whisper\n",
        "!apt install ffmpeg\n",
        "!pip install deepl\n",
        "!pip install yt-dlp\n",
        "!pip install openai==0.28"
      ]
    },
    {
      "cell_type": "markdown",
      "source": [
        "主要程式\n",
        "\n",
        "\n",
        "\n"
      ],
      "metadata": {
        "id": "Flexe0MTur1a"
      }
    },
    {
      "cell_type": "markdown",
      "source": [
        "禁止使用deepL + OpenAI翻譯\n",
        "\n",
        "不好用，沒有比較好"
      ],
      "metadata": {
        "id": "N5t4oR6LhVxN"
      }
    },
    {
      "cell_type": "code",
      "source": [
        "\n",
        "import openai\n",
        "from google.colab import userdata\n",
        "\n",
        "openai.api_key = userdata.get(\"openai\")\n",
        "\n",
        "import os\n",
        "import subprocess\n",
        "import time\n",
        "import whisper\n",
        "\n",
        "model = whisper.load_model(\"medium\")\n",
        "\n",
        "def translate_text(text, target_language=\"繁體中文\"):\n",
        "\n",
        "    translation_prompt = f\"請將以下語句翻譯成流暢的{target_language}:\\n{text}\"\n",
        "\n",
        "    improvement_prompt = \"之後你必須根據上一句翻譯的語句來推測你的這一句如何變得更通順流暢\"\n",
        "\n",
        "    prompt = translation_prompt + \"\\n\" + improvement_prompt\n",
        "\n",
        "    response = openai.Completion.create(\n",
        "        engine=\"text-davinci-003\",\n",
        "        prompt=prompt,\n",
        "        max_tokens=500\n",
        "    )\n",
        "\n",
        "    return response.choices[0].text\n",
        "\n",
        "# 使用 yt-dlp 獲取 YouTube 媒體流地址\n",
        "def get_stream_url(youtube_url):\n",
        "    command = [\"yt-dlp\", \"-g\", youtube_url]\n",
        "    process = subprocess.run(command, stdout=subprocess.PIPE, stderr=subprocess.PIPE, text=True)\n",
        "    if process.returncode != 0:\n",
        "        print(f\"錯誤: 無法獲取流地址。詳情：{process.stderr}\")\n",
        "        return None\n",
        "    return process.stdout.strip()\n",
        "\n",
        "# 錄製音頻的函數\n",
        "def record_audio(stream_url, duration, output_filename):\n",
        "    try:\n",
        "        command = [\n",
        "            \"ffmpeg\", \"-i\", stream_url, \"-t\", str(duration),\n",
        "            \"-ac\", \"1\", \"-ar\", \"16000\", \"-y\", output_filename\n",
        "        ]\n",
        "        subprocess.run(command, stdout=subprocess.PIPE, stderr=subprocess.PIPE, check=True)\n",
        "    except subprocess.CalledProcessError as e:\n",
        "        print(f\"錯誤: 無法錄製音頻。詳情：{e.stderr.decode()}\")\n",
        "        return False\n",
        "    return True\n",
        "\n",
        "# 轉寫音頻的函數\n",
        "def transcribe_audio(file_path, language=\"japanese\"):\n",
        "    try:\n",
        "        result = model.transcribe(file_path, language=language)\n",
        "        return result[\"text\"]\n",
        "    except RuntimeError as e:\n",
        "        print(f\"錯誤: 無法轉寫音頻。詳情：{e}\")\n",
        "        return None\n",
        "\n",
        "# 主流程\n",
        "def main(youtube_url, segment_duration, total_duration):\n",
        "    stream_url = get_stream_url(youtube_url)\n",
        "    if not stream_url:\n",
        "        print(\"無法獲取 YouTube 直播流地址。\")\n",
        "        return\n",
        "\n",
        "    for segment in range(0, total_duration, segment_duration):\n",
        "        filename = f\"output{segment}.wav\"\n",
        "        if record_audio(stream_url, segment_duration, filename):\n",
        "            text = transcribe_audio(filename)\n",
        "            if text:\n",
        "                translated_text = translate_text(text)\n",
        "                print(f\"Segment {segment}: {translated_text}\")\n",
        "            else:\n",
        "                print(f\"無法轉寫段落 {segment}。\")\n",
        "            os.remove(filename)  # 清理：刪除音頻文件\n",
        "        else:\n",
        "            print(f\"錄製段落 {segment} 失敗。\")\n",
        "        time.sleep(segment_duration)\n",
        "\n",
        "# 配置參數\n",
        "YOUTUBE_URL = \"https://www.youtube.com/watch?v=GGeSozh7Yzw\" # YouTube 直播頁面 URL\n",
        "SEGMENT_DURATION = 10  # 每個音頻片段的長度，單位：秒\n",
        "TOTAL_DURATION = 6000   # 總錄製時間，單位：秒\n",
        "\n",
        "if __name__ == \"__main__\":\n",
        "    main(YOUTUBE_URL, SEGMENT_DURATION, TOTAL_DURATION)"
      ],
      "metadata": {
        "id": "eNHUziu5hYSQ"
      },
      "execution_count": null,
      "outputs": []
    }
  ]
}