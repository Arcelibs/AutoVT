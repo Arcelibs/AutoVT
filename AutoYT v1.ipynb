{
  "nbformat": 4,
  "nbformat_minor": 0,
  "metadata": {
    "colab": {
      "provenance": [],
      "gpuType": "T4"
    },
    "kernelspec": {
      "name": "python3",
      "display_name": "Python 3"
    },
    "language_info": {
      "name": "python"
    },
    "accelerator": "GPU"
  },
  "cells": [
    {
      "cell_type": "markdown",
      "source": [
        "安裝 openai-whisper\n",
        "\n",
        "安裝 ffmpeg"
      ],
      "metadata": {
        "id": "Gmkpk-IdYZk4"
      }
    },
    {
      "cell_type": "code",
      "execution_count": null,
      "metadata": {
        "id": "zZtnpYwlYQYT"
      },
      "outputs": [],
      "source": [
        "!pip install openai-whisper\n",
        "!apt install ffmpeg\n",
        "!pip install deepl"
      ]
    },
    {
      "cell_type": "markdown",
      "source": [
        "安裝夜間預覽版本的YTDL"
      ],
      "metadata": {
        "id": "2fRES1CUBHgJ"
      }
    },
    {
      "cell_type": "code",
      "source": [
        "!git clone https://github.com/ytdl-org/ytdl-nightly.git\n",
        "%cd ytdl-nightly\n",
        "!python setup.py install\n",
        "%cd .."
      ],
      "metadata": {
        "id": "e8pGmXynBGyi"
      },
      "execution_count": null,
      "outputs": []
    },
    {
      "cell_type": "markdown",
      "source": [
        "主要程式\n",
        "\n",
        "\n",
        "\n"
      ],
      "metadata": {
        "id": "Flexe0MTur1a"
      }
    },
    {
      "cell_type": "code",
      "source": [
        "import os\n",
        "import subprocess\n",
        "import time\n",
        "import whisper\n",
        "import deepl\n",
        "\n",
        "# 您的DeepL API密鑰\n",
        "deepl_api_key = \"xxxxx"\n",
        "\n",
        "# 初始化DeepL翻譯客戶端\n",
        "translator = deepl.Translator(deepl_api_key)\n",
        "\n",
        "# 獲取 YouTube 媒體流地址（使用 ytdl-nightly）\n",
        "def get_stream_url(youtube_url):\n",
        "    command = [\"youtube-dl\", \"-g\", youtube_url]\n",
        "    process = subprocess.run(command, stdout=subprocess.PIPE, stderr=subprocess.PIPE, text=True)\n",
        "    if process.returncode != 0:\n",
        "        print(f\"錯誤: 無法獲取流地址。詳情：{process.stderr}\")\n",
        "        return None\n",
        "    return process.stdout.strip()\n",
        "\n",
        "# 錄製音頻的函數\n",
        "def record_audio(stream_url, duration, output_filename):\n",
        "    try:\n",
        "        command = [\n",
        "            \"ffmpeg\", \"-i\", stream_url, \"-t\", str(duration),\n",
        "            \"-ac\", \"1\", \"-ar\", \"16000\", \"-y\", output_filename\n",
        "        ]\n",
        "        subprocess.run(command, stdout=subprocess.PIPE, stderr=subprocess.PIPE, check=True)\n",
        "    except subprocess.CalledProcessError as e:\n",
        "        print(f\"錯誤: 無法錄製音頻。詳情：{e.stderr.decode()}\")\n",
        "        return False\n",
        "    return True\n",
        "\n",
        "# 載入 Whisper 模型\n",
        "model = whisper.load_model(\"medium\")\n",
        "\n",
        "# 轉寫音頻的函數\n",
        "def transcribe_audio(file_path, language=\"japanese\"):\n",
        "    try:\n",
        "        result = model.transcribe(file_path, language=language)\n",
        "        return result[\"text\"]\n",
        "    except RuntimeError as e:\n",
        "        print(f\"錯誤: 無法轉寫音頻。詳情：{e}\")\n",
        "        return None\n",
        "\n",
        "# 翻譯文本的函數\n",
        "def translate_text(text, target_language=\"ZH\"):\n",
        "    try:\n",
        "        result = translator.translate_text(text, target_lang=target_language)\n",
        "        return result.text\n",
        "    except Exception as e:\n",
        "        print(f\"翻譯時出錯: {e}\")\n",
        "        return None\n",
        "\n",
        "# 主流程\n",
        "def main(youtube_url, segment_duration, total_duration):\n",
        "    stream_url = get_stream_url(youtube_url)\n",
        "    if not stream_url:\n",
        "        print(\"無法獲取 YouTube 直播流地址。\")\n",
        "        return\n",
        "\n",
        "    for segment in range(0, total_duration, segment_duration):\n",
        "        filename = f\"output{segment}.mp3\"\n",
        "        if record_audio(stream_url, segment_duration, filename):\n",
        "            text = transcribe_audio(filename)\n",
        "            if text:\n",
        "                translated_text = translate_text(text)\n",
        "                print(f\"Segment {segment}: {translated_text}\")\n",
        "            else:\n",
        "                print(f\"無法轉寫段落 {segment}。\")\n",
        "            os.remove(filename)  # 清理：刪除音頻文件\n",
        "        else:\n",
        "            print(f\"錄製段落 {segment} 失敗。\")\n",
        "        time.sleep(segment_duration)\n",
        "\n",
        "# 配置參數\n",
        "YOUTUBE_URL = \"https://www.youtube.com/watch?v=1kInxSpysVU\" # YouTube 直播頁面 URL\n",
        "SEGMENT_DURATION = 5  # 每個音頻片段的長度，單位：秒\n",
        "TOTAL_DURATION = 6000   # 總錄製時間，單位：秒\n",
        "\n",
        "# 執行主流程\n",
        "main(YOUTUBE_URL, SEGMENT_DURATION, TOTAL_DURATION)\n"
      ],
      "metadata": {
        "id": "gcIxw9gquq4g"
      },
      "execution_count": null,
      "outputs": []
    }
  ]
}